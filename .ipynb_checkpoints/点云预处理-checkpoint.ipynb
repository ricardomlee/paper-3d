{
 "cells": [
  {
   "cell_type": "code",
   "execution_count": 1,
   "metadata": {},
   "outputs": [],
   "source": [
    "import open3d as o3d\n",
    "import numpy as np"
   ]
  },
  {
   "cell_type": "code",
   "execution_count": 2,
   "metadata": {},
   "outputs": [
    {
     "name": "stdout",
     "output_type": "stream",
     "text": [
      "Load a ply point cloud, print it, and render it\n",
      "geometry::PointCloud with 513398 points.\n",
      "[[-0.23784727 -0.12832503  0.25600001]\n",
      " [-0.2374876  -0.12832503  0.25600001]\n",
      " [-0.23712793 -0.12832503  0.25600001]\n",
      " ...\n",
      " [ 0.40968075  0.25234136  0.49700001]\n",
      " [ 0.41037902  0.25234136  0.49700001]\n",
      " [ 0.40859592  0.25081816  0.49399999]]\n"
     ]
    }
   ],
   "source": [
    "print(\"Load a ply point cloud, print it, and render it\")\n",
    "pcd = o3d.io.read_point_cloud(\"data/pointcloud-1.ply\")\n",
    "print(pcd)\n",
    "print(np.asarray(pcd.points))\n",
    "o3d.visualization.draw_geometries([pcd])"
   ]
  },
  {
   "cell_type": "markdown",
   "metadata": {},
   "source": [
    "## 条件滤波"
   ]
  },
  {
   "cell_type": "code",
   "execution_count": 3,
   "metadata": {},
   "outputs": [],
   "source": [
    "bbox = o3d.geometry.AxisAlignedBoundingBox(min_bound=(-0.13, -0.23, 0),\n",
    "                                               max_bound=(0.33, 0.13, 0.5))\n",
    "pcd_cropped = pcd.crop(bbox)\n",
    "o3d.visualization.draw_geometries([pcd_cropped])"
   ]
  },
  {
   "cell_type": "markdown",
   "metadata": {},
   "source": [
    "## 体素滤波"
   ]
  },
  {
   "cell_type": "code",
   "execution_count": 4,
   "metadata": {},
   "outputs": [
    {
     "name": "stdout",
     "output_type": "stream",
     "text": [
      "Downsample the point cloud with a voxel of 0.05\n",
      "geometry::PointCloud with 322617 points.\n",
      "geometry::PointCloud with 47797 points.\n",
      "[[ 0.0900873  -0.07018805  0.3588    ]\n",
      " [ 0.094343   -0.13601338  0.38      ]\n",
      " [ 0.07753465 -0.20063685  0.461     ]\n",
      " ...\n",
      " [ 0.32559756  0.12776349  0.4285    ]\n",
      " [ 0.31941229  0.12828654  0.43000001]\n",
      " [ 0.32951862  0.12859106  0.42899999]]\n"
     ]
    }
   ],
   "source": [
    "print(\"Downsample the point cloud with a voxel of 0.05\")\n",
    "downpcd = pcd_cropped.voxel_down_sample(voxel_size=0.002)\n",
    "print(pcd_cropped)\n",
    "print(downpcd)\n",
    "print(np.asarray(downpcd.points))\n",
    "o3d.visualization.draw_geometries([downpcd])"
   ]
  },
  {
   "cell_type": "code",
   "execution_count": 5,
   "metadata": {},
   "outputs": [
    {
     "name": "stdout",
     "output_type": "stream",
     "text": [
      "geometry::PointCloud with 44939 points.\n"
     ]
    }
   ],
   "source": [
    "st,lst=downpcd.remove_statistical_outlier(50,1)\n",
    "print(st)\n",
    "o3d.visualization.draw_geometries([st])"
   ]
  },
  {
   "cell_type": "markdown",
   "metadata": {},
   "source": [
    "## 半径滤波"
   ]
  },
  {
   "cell_type": "code",
   "execution_count": 59,
   "metadata": {},
   "outputs": [
    {
     "name": "stdout",
     "output_type": "stream",
     "text": [
      "Radius oulier removal\n",
      "geometry::PointCloud with 47797 points.\n"
     ]
    }
   ],
   "source": [
    "print(\"Radius oulier removal\")\n",
    "cl, ind = downpcd.remove_radius_outlier(nb_points=10, radius=0.2)\n",
    "print(cl)\n",
    "o3d.visualization.draw_geometries([cl])"
   ]
  },
  {
   "cell_type": "markdown",
   "metadata": {},
   "source": [
    "## 平面分割"
   ]
  },
  {
   "cell_type": "code",
   "execution_count": 61,
   "metadata": {},
   "outputs": [
    {
     "name": "stdout",
     "output_type": "stream",
     "text": [
      "Plane model: 0.13x + -0.00y + 0.99z + -0.47 = 0\n"
     ]
    }
   ],
   "source": [
    "plane_model, inliers = st.segment_plane(distance_threshold=0.01,\n",
    "                                             ransac_n=3,\n",
    "                                             num_iterations=250)\n",
    "[a, b, c, d] = plane_model\n",
    "print(f\"Plane model: {a:.2f}x + {b:.2f}y + {c:.2f}z + {d:.2f} = 0\")\n",
    "inlier_cloud = st.select_down_sample(inliers)\n",
    "inlier_cloud.paint_uniform_color([1.0, 0, 0])\n",
    "\n",
    "outlier_cloud = st.select_down_sample(inliers, invert=True)\n",
    "o3d.visualization.draw_geometries([inlier_cloud, outlier_cloud])"
   ]
  },
  {
   "cell_type": "code",
   "execution_count": 62,
   "metadata": {},
   "outputs": [],
   "source": [
    "o3d.visualization.draw_geometries([outlier_cloud])"
   ]
  },
  {
   "cell_type": "code",
   "execution_count": null,
   "metadata": {},
   "outputs": [],
   "source": []
  }
 ],
 "metadata": {
  "kernelspec": {
   "display_name": "Python 3",
   "language": "python",
   "name": "python3"
  },
  "language_info": {
   "codemirror_mode": {
    "name": "ipython",
    "version": 3
   },
   "file_extension": ".py",
   "mimetype": "text/x-python",
   "name": "python",
   "nbconvert_exporter": "python",
   "pygments_lexer": "ipython3",
   "version": "3.6.10"
  }
 },
 "nbformat": 4,
 "nbformat_minor": 4
}
